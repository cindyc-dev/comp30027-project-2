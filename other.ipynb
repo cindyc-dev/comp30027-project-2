{
 "cells": [
  {
   "attachments": {},
   "cell_type": "markdown",
   "metadata": {},
   "source": [
    "## One R Classifier\n",
    "* not used because same results as zero r"
   ]
  },
  {
   "cell_type": "markdown",
   "metadata": {},
   "source": [
    "## Random Forest\n",
    "* Kaggle Accuracy: 0.64585"
   ]
  },
  {
   "cell_type": "code",
   "execution_count": null,
   "metadata": {},
   "outputs": [
    {
     "name": "stderr",
     "output_type": "stream",
     "text": [
      "c:\\Users\\user\\AppData\\Local\\Programs\\Python\\Python311\\Lib\\site-packages\\sklearn\\ensemble\\_forest.py:424: FutureWarning: `max_features='auto'` has been deprecated in 1.1 and will be removed in 1.3. To keep the past behaviour, explicitly set `max_features='sqrt'` or remove this parameter as it is also the default value for RandomForestClassifiers and ExtraTreesClassifiers.\n",
      "  warn(\n",
      "[Parallel(n_jobs=-1)]: Using backend ThreadingBackend with 12 concurrent workers.\n",
      "[Parallel(n_jobs=-1)]: Done  26 tasks      | elapsed:    0.1s\n",
      "[Parallel(n_jobs=-1)]: Done 100 out of 100 | elapsed:    0.5s finished\n",
      "[Parallel(n_jobs=12)]: Using backend ThreadingBackend with 12 concurrent workers.\n",
      "[Parallel(n_jobs=12)]: Done  26 tasks      | elapsed:    0.0s\n",
      "[Parallel(n_jobs=12)]: Done 100 out of 100 | elapsed:    0.0s finished\n",
      "[Parallel(n_jobs=12)]: Using backend ThreadingBackend with 12 concurrent workers.\n",
      "[Parallel(n_jobs=12)]: Done  26 tasks      | elapsed:    0.0s\n",
      "[Parallel(n_jobs=12)]: Done 100 out of 100 | elapsed:    0.0s finished\n"
     ]
    },
    {
     "name": "stdout",
     "output_type": "stream",
     "text": [
      "              precision    recall  f1-score   support\n",
      "\n",
      "         3.0       0.30      0.18      0.22      1136\n",
      "         4.0       0.72      0.85      0.78      3281\n",
      "         5.0       0.19      0.08      0.11       196\n",
      "\n",
      "    accuracy                           0.65      4613\n",
      "   macro avg       0.40      0.37      0.37      4613\n",
      "weighted avg       0.60      0.65      0.62      4613\n",
      "\n",
      "len(predictions): 5766\n",
      "predicted class: 4.0\n"
     ]
    },
    {
     "data": {
      "image/png": "[encoded data removed]",
      "text/plain": [
       "<Figure size 640x480 with 1 Axes>"
      ]
     },
     "metadata": {},
     "output_type": "display_data"
    }
   ],
   "source": [
    "import pandas as pd\n",
    "import numpy as np\n",
    "from sklearn.ensemble import RandomForestClassifier\n",
    "from sklearn.metrics import accuracy_score, classification_report\n",
    "from sklearn.model_selection import train_test_split\n",
    "\n",
    "# Preprocess Data\n",
    "\n",
    "\n",
    "features = train_df.drop('rating_label', axis=1)\n",
    "labels = train_df['rating_label']\n",
    "\n",
    "# Train/Test Split\n",
    "X_train, X_val, y_train, y_val = train_test_split(features, labels, test_size=0.2, random_state=42)\n",
    "\n",
    "# Define Model\n",
    "rf_model = RandomForestClassifier(\n",
    "    n_estimators=100,\n",
    "    criterion='gini',\n",
    "    max_depth=None,\n",
    "    min_samples_split=2,\n",
    "    min_samples_leaf=1,\n",
    "    max_features='auto',\n",
    "    random_state=42,\n",
    "    n_jobs=-1,\n",
    "    verbose=1\n",
    ")\n",
    "\n",
    "# Train Model\n",
    "rf_model.fit(X_train, y_train)\n",
    "\n",
    "# Predict Labels on training set and evaluate\n",
    "y_pred = rf_model.predict(X_val)\n",
    "print(classification_report(y_val, y_pred))\n",
    "\n",
    "# Predict Labels on test set\n",
    "predictions = rf_model.predict(test_df)\n",
    "print(f\"len(predictions): {len(predictions)}\")\n",
    "print(f\"predicted class: {predictions[0]}\")\n",
    "\n",
    "# plot a bar chart of the predictions\n",
    "plt.hist(predictions)\n",
    "\n",
    "# Export Results\n",
    "results_to_csv('rf.csv', predictions)"
   ]
  },
  {
   "cell_type": "code",
   "execution_count": null,
   "metadata": {},
   "outputs": [],
   "source": [
    "from sklearn.tree import DecisionTreeClassifier\n",
    "import numpy as np\n",
    "\n",
    "# Preprocess data\n",
    "train_df = preprocess(TRAIN_FILE)\n",
    "test_df = preprocess(TEST_FILE)\n",
    "\n",
    "# Train model\n",
    "X = train_df.drop(['rating_label'], axis=1)\n",
    "y = train_df['rating_label']\n",
    "\n",
    "one_r = DecisionTreeClassifier(max_depth=1)\n",
    "one_r.fit(X, y)\n",
    "\n",
    "importances = one_r.feature_importances_\n",
    "max_index = np.argmax(importances)\n",
    "best_feature_name = train_df.columns[max_index]\n",
    "print(best_feature_name)\n",
    "\n",
    "# Predict labels\n",
    "predictions = one_r.predict(test_df)\n",
    "print(len(predictions))\n",
    "plt.hist(predictions)\n",
    "\n",
    "results_to_csv('one_r.csv', predictions)"
   ]
  },
  {
   "attachments": {},
   "cell_type": "markdown",
   "metadata": {},
   "source": []
  },
  {
   "cell_type": "markdown",
   "metadata": {},
   "source": [
    "## Data Cleaning"
   ]
  },
  {
   "cell_type": "code",
   "execution_count": null,
   "metadata": {},
   "outputs": [
    {
     "name": "stdout",
     "output_type": "stream",
     "text": [
      "train_df rows: 23063, features: 10\n",
      "Number of duplicates: 5\n",
      "Number of NaNs: 17350\n",
      "Name: 0\n",
      "Authors: 0\n",
      "PublishYear: 0\n",
      "PublishMonth: 0\n",
      "PublishDay: 0\n",
      "Publisher: 148\n",
      "Language: 17202\n",
      "pagesNumber: 0\n",
      "Description: 0\n",
      "rating_label: 0\n",
      "       PublishYear  PublishMonth  PublishDay  Publisher  Language  pagesNumber\n",
      "2935          1993             6           1        154         1          398\n",
      "7721          2005             9          27       4218        18          203\n",
      "8832          2007             6           1       1880        18          280\n",
      "4702          2007             2           1       2979        18          249\n",
      "3948          1995            11           1        435         1          368\n",
      "...            ...           ...         ...        ...       ...          ...\n",
      "11964         2003             7           1       3138        18          177\n",
      "21575         2003             4           1       3741         1          424\n",
      "5390          2004             1          23       3390        18          256\n",
      "860           2002             9           5       4003        18          374\n",
      "15795         2001             2           7       2102         2          157\n",
      "\n",
      "[18450 rows x 6 columns]\n",
      "\n",
      "Number of NaNs: 0\n",
      "PublishYear: 0\n",
      "PublishMonth: 0\n",
      "PublishDay: 0\n",
      "Publisher: 0\n",
      "Language: 0\n",
      "pagesNumber: 0\n"
     ]
    },
    {
     "name": "stderr",
     "output_type": "stream",
     "text": [
      "C:\\Users\\user\\AppData\\Local\\Temp\\ipykernel_22072\\1536043514.py:44: FutureWarning: \n",
      "\n",
      "`shade` is now deprecated in favor of `fill`; setting `fill=True`.\n",
      "This will become an error in seaborn v0.14.0; please update your code.\n",
      "\n",
      "  sns.kdeplot(train_df['rating_label'], shade = True)\n"
     ]
    },
    {
     "data": {
      "image/png": "[encoded data removed]",
      "text/plain": [
       "<Figure size 640x480 with 1 Axes>"
      ]
     },
     "metadata": {},
     "output_type": "display_data"
    }
   ],
   "source": [
    "train_df = pd.read_csv(TRAIN_FILE)\n",
    "print(f\"train_df rows: {train_df.shape[0]}, features: {train_df.shape[1]}\")\n",
    "\n",
    "# Check for duplicates\n",
    "num_dups = train_df.duplicated().sum()\n",
    "print(f\"Number of duplicates: {num_dups}\")\n",
    "\n",
    "# Check for NaNs\n",
    "num_nans = train_df.isna().sum().sum()\n",
    "print(f\"Number of NaNs: {num_nans}\")\n",
    "for column in train_df.columns:\n",
    "    null_count = train_df[column].isnull().sum()\n",
    "    print(f\"{column}: {null_count}\")\n",
    "\n",
    "X_train, X_val, y_train, y_val, test_df = get_dfs(config)\n",
    "print(X_train)\n",
    "X_train = apply_imputation(X_train, 'Language', 'knn')\n",
    "num_nans = X_train.isna().sum().sum()\n",
    "print(f\"\\nNumber of NaNs: {num_nans}\")\n",
    "for column in X_train.columns:\n",
    "    null_count = X_train[column].isnull().sum()\n",
    "    print(f\"{column}: {null_count}\")\n",
    "\n",
    "# ratings distribution\n",
    "sns.kdeplot(train_df['rating_label'], shade = True)\n",
    "plt.title('Rating Distribution\\n')\n",
    "plt.xlabel('Rating Label')\n",
    "plt.ylabel('Frequency')\n",
    "plt.show()"
   ]
  },
  {
   "cell_type": "code",
   "execution_count": null,
   "metadata": {},
   "outputs": [
    {
     "data": {
      "text/plain": [
       "(array([ 0,  1,  2,  3,  4,  5,  6,  7,  8,  9, 10, 11, 12, 13, 14, 15, 16,\n",
       "        17]),\n",
       " [Text(0, 0, 'eng'),\n",
       "  Text(1, 0, 'fre'),\n",
       "  Text(2, 0, 'spa'),\n",
       "  Text(3, 0, 'ger'),\n",
       "  Text(4, 0, 'jpn'),\n",
       "  Text(5, 0, 'per'),\n",
       "  Text(6, 0, 'mul'),\n",
       "  Text(7, 0, 'por'),\n",
       "  Text(8, 0, 'lat'),\n",
       "  Text(9, 0, 'ita'),\n",
       "  Text(10, 0, 'zho'),\n",
       "  Text(11, 0, 'grc'),\n",
       "  Text(12, 0, 'heb'),\n",
       "  Text(13, 0, 'rus'),\n",
       "  Text(14, 0, 'ara'),\n",
       "  Text(15, 0, 'swe'),\n",
       "  Text(16, 0, 'frs'),\n",
       "  Text(17, 0, 'nld')])"
      ]
     },
     "metadata": {},
     "output_type": "display_data"
    },
    {
     "data": {
      "image/png": "[encoded data removed]",
      "text/plain": [
       "<Figure size 640x480 with 1 Axes>"
      ]
     },
     "metadata": {},
     "output_type": "display_data"
    }
   ],
   "source": [
    "# top languages\n",
    "train_df['Language'].value_counts().plot(kind='bar')\n",
    "plt.title('Most Popular Language')\n",
    "plt.ylabel('Counts')\n",
    "plt.xticks(rotation = 90)"
   ]
  },
  {
   "cell_type": "code",
   "execution_count": null,
   "metadata": {},
   "outputs": [],
   "source": [
    "# top languages\n",
    "train_df['Authors'].value_counts().plot(kind='bar')\n",
    "plt.title('Most Popular Authors')\n",
    "plt.ylabel('Counts')\n",
    "plt.xticks(rotation = 90)"
   ]
  },
  {
   "cell_type": "markdown",
   "metadata": {},
   "source": []
  },
  {
   "cell_type": "markdown",
   "metadata": {},
   "source": [
    "## Feature Selection"
   ]
  },
  {
   "cell_type": "code",
   "execution_count": null,
   "metadata": {},
   "outputs": [
    {
     "data": {
      "text/html": [
       "<div>\n",
       "<style scoped>\n",
       "    .dataframe tbody tr th:only-of-type {\n",
       "        vertical-align: middle;\n",
       "    }\n",
       "\n",
       "    .dataframe tbody tr th {\n",
       "        vertical-align: top;\n",
       "    }\n",
       "\n",
       "    .dataframe thead th {\n",
       "        text-align: right;\n",
       "    }\n",
       "</style>\n",
       "<table border=\"1\" class=\"dataframe\">\n",
       "  <thead>\n",
       "    <tr style=\"text-align: right;\">\n",
       "      <th></th>\n",
       "      <th>PublishYear</th>\n",
       "      <th>PublishMonth</th>\n",
       "      <th>PublishDay</th>\n",
       "      <th>Publisher</th>\n",
       "      <th>Language</th>\n",
       "      <th>pagesNumber</th>\n",
       "      <th>rating_label</th>\n",
       "    </tr>\n",
       "  </thead>\n",
       "  <tbody>\n",
       "    <tr>\n",
       "      <th>0</th>\n",
       "      <td>0.910714</td>\n",
       "      <td>0.454545</td>\n",
       "      <td>0.0</td>\n",
       "      <td>0.862727</td>\n",
       "      <td>1.000000</td>\n",
       "      <td>0.001297</td>\n",
       "      <td>4.0</td>\n",
       "    </tr>\n",
       "    <tr>\n",
       "      <th>1</th>\n",
       "      <td>0.827381</td>\n",
       "      <td>0.818182</td>\n",
       "      <td>0.0</td>\n",
       "      <td>0.260890</td>\n",
       "      <td>1.000000</td>\n",
       "      <td>0.009838</td>\n",
       "      <td>4.0</td>\n",
       "    </tr>\n",
       "    <tr>\n",
       "      <th>2</th>\n",
       "      <td>0.910714</td>\n",
       "      <td>0.181818</td>\n",
       "      <td>1.0</td>\n",
       "      <td>0.190723</td>\n",
       "      <td>1.000000</td>\n",
       "      <td>0.000865</td>\n",
       "      <td>4.0</td>\n",
       "    </tr>\n",
       "    <tr>\n",
       "      <th>3</th>\n",
       "      <td>0.904762</td>\n",
       "      <td>0.727273</td>\n",
       "      <td>0.0</td>\n",
       "      <td>0.113021</td>\n",
       "      <td>1.000000</td>\n",
       "      <td>0.007919</td>\n",
       "      <td>4.0</td>\n",
       "    </tr>\n",
       "    <tr>\n",
       "      <th>4</th>\n",
       "      <td>0.910714</td>\n",
       "      <td>0.545455</td>\n",
       "      <td>0.2</td>\n",
       "      <td>0.663998</td>\n",
       "      <td>0.055556</td>\n",
       "      <td>0.009514</td>\n",
       "      <td>3.0</td>\n",
       "    </tr>\n",
       "  </tbody>\n",
       "</table>\n",
       "</div>"
      ],
      "text/plain": [
       "   PublishYear  PublishMonth  PublishDay  Publisher  Language  pagesNumber  \\\n",
       "0     0.910714      0.454545         0.0   0.862727  1.000000     0.001297   \n",
       "1     0.827381      0.818182         0.0   0.260890  1.000000     0.009838   \n",
       "2     0.910714      0.181818         1.0   0.190723  1.000000     0.000865   \n",
       "3     0.904762      0.727273         0.0   0.113021  1.000000     0.007919   \n",
       "4     0.910714      0.545455         0.2   0.663998  0.055556     0.009514   \n",
       "\n",
       "   rating_label  \n",
       "0           4.0  \n",
       "1           4.0  \n",
       "2           4.0  \n",
       "3           4.0  \n",
       "4           3.0  "
      ]
     },
     "metadata": {},
     "output_type": "display_data"
    }
   ],
   "source": [
    "# Train Model\n",
    "X = normalise(train_df.drop('rating_label', axis=1))\n",
    "y = train_df['rating_label']\n",
    "\n",
    "# combine x and y into 1 df\n",
    "df = pd.concat([X, y], axis=1)\n",
    "df.head()"
   ]
  },
  {
   "cell_type": "code",
   "execution_count": null,
   "metadata": {},
   "outputs": [],
   "source": [
    "import seaborn as sns\n",
    "import pandas as pd\n",
    "\n",
    "# Train Model\n",
    "X = normalise(train_df.drop('rating_label', axis=1))\n",
    "y = train_df['rating_label']\n",
    "\n",
    "# combine x and y into 1 df\n",
    "df = pd.concat([X, y], axis=1)\n",
    "\n",
    "# create a pairplot using Seaborn\n",
    "sns.pairplot(df, hue=\"rating_label\")"
   ]
  },
  {
   "cell_type": "code",
   "execution_count": null,
   "metadata": {},
   "outputs": [
    {
     "data": {
      "image/png": "[encoded data removed]",
      "text/plain": [
       "<Figure size 640x480 with 1 Axes>"
      ]
     },
     "metadata": {},
     "output_type": "display_data"
    }
   ],
   "source": [
    "df = normalise(train_df.drop('rating_label', axis=1))\n",
    "df['rating_label']  = train_df['rating_label']\n",
    "grouped = df.groupby('rating_label').mean()\n",
    "grouped.plot.bar()\n",
    "plt.show()"
   ]
  },
  {
   "cell_type": "code",
   "execution_count": null,
   "metadata": {},
   "outputs": [],
   "source": [
    "X = normalise(train_df.drop('rating_label', axis=1))\n",
    "y = train_df['rating_label']\n",
    "for feature in X.columns:\n",
    "    plt.figure()\n",
    "    plt.scatter(X[feature], y)\n",
    "    plt.xlabel(feature)\n",
    "    plt.ylabel('label')\n",
    "    plt.show()"
   ]
  },
  {
   "cell_type": "code",
   "execution_count": null,
   "metadata": {},
   "outputs": [
    {
     "name": "stdout",
     "output_type": "stream",
     "text": [
      "(23063, 126890)\n",
      "(23063, 1000)\n"
     ]
    }
   ],
   "source": [
    "# chi-squared test\n",
    "from sklearn.feature_selection import chi2\n",
    "from scipy.sparse import coo_matrix\n",
    "\n",
    "# Assume X is your feature matrix\n",
    "X = add_countvec_features( normalise(train_df.drop('rating_label', axis=1)), \"train\")\n",
    "# print(type(X))\n",
    "print(X.shape)\n",
    "y = train_df['rating_label']\n",
    "# chi_scores, p_values = chi2(X, y)\n",
    "# k = 10\n",
    "# top_features_indices = np.argsort(chi_scores)[-k:]\n",
    "# print(top_features_indices)\n",
    "\n",
    "# X_selected = X.iloc[:, top_features_indices]\n",
    "# print(X_selected.head())\n",
    "\n",
    "# Assume X is your feature matrix in COO format, and y is your target variable\n",
    "num_top_features = 1000\n",
    "\n",
    "# Compute the chi-squared scores and p-values for each feature\n",
    "chi2_scores, p_values = chi2(X, y)\n",
    "\n",
    "# Get the indices of the top k features based on the chi2 scores\n",
    "top_feature_indices = chi2_scores.argsort()[::-1][:num_top_features]\n",
    "\n",
    "# Convert the COO matrix to a CSC matrix and select the top k features\n",
    "X_top_features = X.tocsc()[:, top_feature_indices]\n",
    "\n",
    "# Print the names of the top k features\n",
    "# print(X_top_features)\n",
    "print(X_top_features.shape)"
   ]
  },
  {
   "cell_type": "code",
   "execution_count": null,
   "metadata": {},
   "outputs": [],
   "source": [
    "preprocess(TRAIN_FILE).head()"
   ]
  },
  {
   "cell_type": "code",
   "execution_count": null,
   "metadata": {},
   "outputs": [
    {
     "data": {
      "text/html": [
       "<div>\n",
       "<style scoped>\n",
       "    .dataframe tbody tr th:only-of-type {\n",
       "        vertical-align: middle;\n",
       "    }\n",
       "\n",
       "    .dataframe tbody tr th {\n",
       "        vertical-align: top;\n",
       "    }\n",
       "\n",
       "    .dataframe thead th {\n",
       "        text-align: right;\n",
       "    }\n",
       "</style>\n",
       "<table border=\"1\" class=\"dataframe\">\n",
       "  <thead>\n",
       "    <tr style=\"text-align: right;\">\n",
       "      <th></th>\n",
       "      <th>PublishYear</th>\n",
       "      <th>PublishMonth</th>\n",
       "      <th>PublishDay</th>\n",
       "      <th>Publisher</th>\n",
       "      <th>Language</th>\n",
       "      <th>pagesNumber</th>\n",
       "    </tr>\n",
       "  </thead>\n",
       "  <tbody>\n",
       "    <tr>\n",
       "      <th>0</th>\n",
       "      <td>0.910714</td>\n",
       "      <td>0.454545</td>\n",
       "      <td>0.0</td>\n",
       "      <td>0.862727</td>\n",
       "      <td>1.000000</td>\n",
       "      <td>0.001297</td>\n",
       "    </tr>\n",
       "    <tr>\n",
       "      <th>1</th>\n",
       "      <td>0.827381</td>\n",
       "      <td>0.818182</td>\n",
       "      <td>0.0</td>\n",
       "      <td>0.260890</td>\n",
       "      <td>1.000000</td>\n",
       "      <td>0.009838</td>\n",
       "    </tr>\n",
       "    <tr>\n",
       "      <th>2</th>\n",
       "      <td>0.910714</td>\n",
       "      <td>0.181818</td>\n",
       "      <td>1.0</td>\n",
       "      <td>0.190723</td>\n",
       "      <td>1.000000</td>\n",
       "      <td>0.000865</td>\n",
       "    </tr>\n",
       "    <tr>\n",
       "      <th>3</th>\n",
       "      <td>0.904762</td>\n",
       "      <td>0.727273</td>\n",
       "      <td>0.0</td>\n",
       "      <td>0.113021</td>\n",
       "      <td>1.000000</td>\n",
       "      <td>0.007919</td>\n",
       "    </tr>\n",
       "    <tr>\n",
       "      <th>4</th>\n",
       "      <td>0.910714</td>\n",
       "      <td>0.545455</td>\n",
       "      <td>0.2</td>\n",
       "      <td>0.663998</td>\n",
       "      <td>0.055556</td>\n",
       "      <td>0.009514</td>\n",
       "    </tr>\n",
       "  </tbody>\n",
       "</table>\n",
       "</div>"
      ],
      "text/plain": [
       "   PublishYear  PublishMonth  PublishDay  Publisher  Language  pagesNumber\n",
       "0     0.910714      0.454545         0.0   0.862727  1.000000     0.001297\n",
       "1     0.827381      0.818182         0.0   0.260890  1.000000     0.009838\n",
       "2     0.910714      0.181818         1.0   0.190723  1.000000     0.000865\n",
       "3     0.904762      0.727273         0.0   0.113021  1.000000     0.007919\n",
       "4     0.910714      0.545455         0.2   0.663998  0.055556     0.009514"
      ]
     },
     "metadata": {},
     "output_type": "display_data"
    }
   ],
   "source": [
    "# NORMALISATION\n",
    "# Preprocess Data\n",
    "train_df = preprocess(TRAIN_FILE)\n",
    "test_df = normalise(preprocess(TEST_FILE))\n",
    "\n",
    "# Train Model\n",
    "X = normalise(train_df.drop('rating_label', axis=1))\n",
    "y = train_df['rating_label']\n",
    "\n",
    "X.head()"
   ]
  },
  {
   "cell_type": "code",
   "execution_count": null,
   "metadata": {},
   "outputs": [],
   "source": [
    "train_df = preprocess(TRAIN_FILE)\n",
    "test_df = preprocess(TEST_FILE)\n",
    "\n",
    "# Train Model\n",
    "X = train_df.drop('rating_label', axis=1)\n",
    "y = train_df['rating_label']\n",
    "X = add_countvec_features(X, \"train\")\n",
    "print(X)"
   ]
  },
  {
   "cell_type": "code",
   "execution_count": null,
   "metadata": {},
   "outputs": [],
   "source": [
    "authors_vocab = pickle.load(open(f\"{COUNTVEC_FOLDER}/train_authors_countvectorizer.pkl\", \"rb\"))\n",
    "authors_vocab_dict = authors_vocab.vocabulary_\n",
    "print(len(authors_vocab_dict))\n",
    "\n",
    "desc_vocab = pickle.load(open(f\"{COUNTVEC_FOLDER}/train_desc_countvectorizer.pkl\", \"rb\"))\n",
    "desc_vocab_dict = desc_vocab.vocabulary_\n",
    "print(len(desc_vocab_dict))"
   ]
  },
  {
   "cell_type": "code",
   "execution_count": null,
   "metadata": {},
   "outputs": [],
   "source": [
    "name_vec = scipy.sparse.load_npz(f\"{COUNTVEC_FOLDER}/train_name_vec.npz\")\n",
    "authors_vec = scipy.sparse.load_npz(f\"{COUNTVEC_FOLDER}/train_authors_vec.npz\")\n",
    "desc_vec = scipy.sparse.load_npz(f\"{COUNTVEC_FOLDER}/train_desc_vec.npz\")"
   ]
  }
 ],
 "metadata": {
  "language_info": {
   "name": "python"
  },
  "orig_nbformat": 4
 },
 "nbformat": 4,
 "nbformat_minor": 2
}
